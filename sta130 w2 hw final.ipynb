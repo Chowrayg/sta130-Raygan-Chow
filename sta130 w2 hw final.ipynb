{
 "cells": [
  {
   "cell_type": "markdown",
   "id": "996bd07b",
   "metadata": {},
   "source": [
    "# Q3\n",
    "Below is the final code after cooperating with Chatgpt and a markdown explanation, followed by a github link to the chat log. I've also put a snippet of the chat log below with heading titled \"Can you help me check if I understand the code correctly\" and the ensuing discussion, as it might demonstrate my understanding of the code."
   ]
  },
  {
   "cell_type": "code",
   "execution_count": 4,
   "id": "c08e1160",
   "metadata": {},
   "outputs": [
    {
     "name": "stdout",
     "output_type": "stream",
     "text": [
      "Switching win rate: 0.6591\n",
      "Staying win rate: 0.3409\n"
     ]
    }
   ],
   "source": [
    "### Combined Code\n",
    "import random\n",
    "\n",
    "# Number of simulations\n",
    "reps = 10000\n",
    "\n",
    "# Counters for wins\n",
    "switch_wins = 0\n",
    "stay_wins = 0\n",
    "\n",
    "# Running the simulation\n",
    "for _ in range(reps):\n",
    "    # Randomly place the prize behind one of the doors\n",
    "    prize_door = random.randint(0, 2)\n",
    "    \n",
    "    # Contestant makes an initial choice\n",
    "    initial_choice = random.randint(0, 2)\n",
    "    \n",
    "    # Host opens a door that is not the prize door and not the initial choice\n",
    "    host_opens = next(door for door in range(3) if door not in {initial_choice, prize_door})\n",
    "    \n",
    "    # Determine the door to switch to\n",
    "    switch_choice = 3 - initial_choice - host_opens\n",
    "\n",
    "    # Count wins for switching\n",
    "    switch_wins += switch_choice == prize_door\n",
    "    \n",
    "    # Count wins for staying\n",
    "    stay_wins += initial_choice == prize_door\n",
    "\n",
    "# Calculate win rates\n",
    "switch_win_rate = switch_wins / reps\n",
    "stay_win_rate = stay_wins / reps\n",
    "\n",
    "# Output results\n",
    "print(f\"Switching win rate: {switch_win_rate}\")\n",
    "print(f\"Staying win rate: {stay_win_rate}\")\n",
    "\n",
    "\n"
   ]
  },
  {
   "cell_type": "markdown",
   "id": "25762b87",
   "metadata": {},
   "source": [
    "### Step-by-Step Breakdown of the code above\n",
    "\n",
    "1. **Importing the Random Module**:\n",
    "   ```python\n",
    "   import random\n",
    "   ```\n",
    "   - This line imports the `random` module to allow for random number generation, which is essential for simulating the game.\n",
    "\n",
    "2. **Setting Up the Number of Simulations**:\n",
    "   ```python\n",
    "   reps = 10000\n",
    "   ```\n",
    "   - `reps` defines the number of times the simulation will run to get statistically significant results.\n",
    "\n",
    "3. **Initializing Win Counters**:\n",
    "   ```python\n",
    "   switch_wins = 0\n",
    "   stay_wins = 0\n",
    "   ```\n",
    "   - `switch_wins` tracks how many times the contestant wins by switching doors, and `stay_wins` tracks wins by staying with the initial choice.\n",
    "\n",
    "4. **Starting the Simulation Loop**:\n",
    "   ```python\n",
    "   for _ in range(reps):\n",
    "   ```\n",
    "   - This loop will execute `reps` times, simulating the game each time.\n",
    "\n",
    "5. **Randomly Placing the Prize**:\n",
    "   ```python\n",
    "       prize_door = random.randint(0, 2)\n",
    "   ```\n",
    "   - This line randomly selects one of the three doors (0, 1, or 2) to hide the prize.\n",
    "\n",
    "6. **Contestant Makes an Initial Choice**:\n",
    "   ```python\n",
    "       initial_choice = random.randint(0, 2)\n",
    "   ```\n",
    "   - The contestant randomly selects a door as their initial choice.\n",
    "\n",
    "7. **Host Opens a Door**:\n",
    "   ```python\n",
    "       host_opens = next(door for door in range(3) if door not in {initial_choice, prize_door})\n",
    "   ```\n",
    "   - The host opens one of the remaining doors that is neither the contestant's choice nor the prize door, using a generator expression to find it directly.\n",
    "\n",
    "8. **Determine the Door to Switch To**:\n",
    "   ```python\n",
    "       switch_choice = 3 - initial_choice - host_opens\n",
    "   ```\n",
    "   - The door to switch to is calculated by subtracting the indices of the initial choice and the door opened by the host from the total (3). This effectively gives the remaining door.\n",
    "\n",
    "9. **Count Wins for Switching**:\n",
    "   ```python\n",
    "       switch_wins += switch_choice == prize_door\n",
    "   ```\n",
    "   - If the switched door is the prize door, `switch_choice == prize_door` evaluates to `True` (1), and `1` is added to `switch_wins`. If not, `0` is added.\n",
    "\n",
    "10. **Count Wins for Staying**:\n",
    "    ```python\n",
    "       stay_wins += initial_choice == prize_door\n",
    "    ```\n",
    "    - Similarly, this line checks if the initial choice is the prize door. If it is, it adds `1` to `stay_wins`; otherwise, it adds `0`.\n",
    "\n",
    "11. **Calculating Win Rates**:\n",
    "    ```python\n",
    "    switch_win_rate = switch_wins / reps\n",
    "    stay_win_rate = stay_wins / reps\n",
    "    ```\n",
    "    - After the loop, win rates for both strategies are calculated by dividing the respective win counts by the total number of simulations.\n",
    "\n",
    "12. **Outputting Results**:\n",
    "    ```python\n",
    "    print(f\"Switching win rate: {switch_win_rate}\")\n",
    "    print(f\"Staying win rate: {stay_win_rate}\")\n",
    "    ```\n",
    "    - Finally, the calculated win rates are printed to the console, displaying how often each strategy results in a win.\n",
    "\n",
    "---"
   ]
  },
  {
   "cell_type": "markdown",
   "id": "c60e5738",
   "metadata": {},
   "source": [
    "Github repo: https://github.com/Chowrayg/sta130-hw2-Raygan-Chow/blob/main/Prelecture%20and%20postlecture%20hw"
   ]
  },
  {
   "cell_type": "markdown",
   "id": "6fffac8e",
   "metadata": {},
   "source": [
    "# snippet below:"
   ]
  },
  {
   "cell_type": "markdown",
   "id": "ee6cdbbd",
   "metadata": {},
   "source": [
    "## You said: Can you help me check if I understand the code correctly?\n",
    "Eseentially, the code first sets the player's choice as a constant. Then, since this is the Monty Hall problem, the winning door must be random, so if the player's choice isn't random then the doors must be random. After running the code to randomly choose a door to be the winning door, the outcome to avoid is to reveal the player's door if it's the winning door. This is because we're trying to test out the \"always switch doors\" strategy in the case where a goat is revealed, therefore revealing the winning door immediately serves no purpose. So, the code removes the chosen door from the list in that specific case, then reveals the 3rd door that is also not the player's choice which is a goat door.\n",
    "\n",
    "Then, to test the strategy, we set the code to always have the player switch doors. The results are then added to switch_wins or stay_wins respectively if the conditions are satisfied. These results are noted this way because we want to confirm the 2/3 win rate if the player switches.\n",
    "\n",
    "## ChatGPT said:\n",
    "You've got a solid understanding of the Monty Hall problem and the code! Here’s a breakdown of your points to clarify and confirm your understanding:\n",
    "\n",
    "Player's Initial Choice:\n",
    "\n",
    "You mentioned that the player's choice is treated as a constant. However, in the code, the player's choice is randomly assigned each time the simulation runs. This simulates different scenarios.\n",
    "\n",
    "Winning Door Randomness:\n",
    "Correct! The winning door is chosen randomly from the three doors. This randomness is crucial for simulating the game accurately.\n",
    "\n",
    "Avoid Revealing the Winning Door:\n",
    "You're right that the goal is to avoid revealing the player's chosen door if it has the prize. The host reveals one of the other doors, which is always a goat. This step is essential for the Monty Hall logic.\n",
    "\n",
    "Switching Strategy:\n",
    "The code is designed to test the strategy of always switching. After the host reveals a door (a goat), the player always switches to the remaining unopened door.\n",
    "\n",
    "Counting Wins:\n",
    "You correctly noted that the results are counted in switch_wins and stay_wins based on the conditions met after the player’s final choice. This allows us to determine the effectiveness of the switching strategy.\n",
    "\n",
    "Expected Outcome:\n",
    "Your conclusion about confirming the 2/3 win rate when the player always switches is accurate. The Monty Hall problem shows that switching gives a 2/3 chance of winning, while staying gives a 1/3 chance.\n",
    "Overall, your understanding captures the essence of the Monty Hall problem and how the code simulates it. Great job! If you have any more questions or need further clarification on any part, feel free to ask!\n",
    "\n",
    "## You said:\n",
    "Understood on breakdown point 1, I mixed up a previous version of the code (sample given by my professor). To clarify (you can check if I'm wrong), as long as the outcome of door chosen isn't always the same and is random then steps 1 and 2 are fine. Having the player's choice randomly assigned increases the randomness of whether a goat door or winning door is initially chosen, and in the previous code only the winning door is random. In the end, both codes are able to make it so that players won't always be able to choose the same winning or goat door i.e. have the same initial outcome.\n",
    "\n",
    "## ChatGPT said:\n",
    "You're absolutely correct! Here’s a recap to confirm your understanding:\n",
    "\n",
    "Randomization of Choices:\n",
    "\n",
    "In the current code, both the player's initial choice and the winning door are randomly assigned for each simulation. This randomness ensures that every run of the simulation can produce different outcomes, making the results more reliable.\n",
    "\n",
    "Increased Randomness:\n",
    "By allowing the player’s choice to be random as well, the simulation captures a broader range of scenarios, which better reflects the true nature of the game. In the previous version you mentioned, if only the winning door was random, it would limit the variety of initial outcomes.\n",
    "\n",
    "Consistent Results:\n",
    "Both codes achieve the same goal: they ensure that players don't always end up with the same door outcomes. This is important for effectively testing the strategies of switching versus staying, and ultimately confirms the probabilities involved.\n",
    "Your understanding is spot on! If you have any more questions or if there's anything else you want to clarify, just let me know!\n",
    "\n"
   ]
  },
  {
   "cell_type": "markdown",
   "id": "241db6cf",
   "metadata": {},
   "source": [
    "# Q5's log is within the same repo above"
   ]
  },
  {
   "cell_type": "markdown",
   "id": "ccd8dfd8",
   "metadata": {},
   "source": [
    "# Q6\n",
    "\n",
    "1. The chatbot (I used chatgpt) was extremely helpful for both problems. In general, although not instant, it was able to provide clear answers and interpreted the code in Python automatically. \n",
    "\n",
    "For the monty hall problem, the chatbot provided succinct background info on the problem. This made understanding the code much easier because the chatbot is able to map the purposes of the problem directly onto the code. The chatbot was also wise enough to provide this info without prompt at the mere mentioning of the problem even though my prompt was to breakdown the code by steps, not breakdown the problem by steps. The chatbot was also objective enough when checking whether my understanding was correct i.e. it approved my understanding on most points but also pointed out my mistake in missing players' choice being random in addition to the doors.\n",
    "\n",
    "For the markovian chatbot problem, the chatbot's explanation was more difficult to understand but I believe it stems from the code's difficulty. Regardless, it showcased enough clarity, at least for the initial code without extensions, in explaining the code by steps. Interestingly, the chatbot was able to utilize tutorial 3's material partially by advising on outliers, or in its wording edge cases where for example an unfamiliar word appears or the response gets too long, which can clearly be solved using a few lines of code but the chatbot's preemptive identification of these edge cases as a potential problem is remarkable. Of course, the edge cases weren't exactly outliers as defined in statistics relative to IQR, but if a word is unfamiliar to the code in the long term it surely is a trough in terms of usage, so metaphorically speaking it is similar to an outlier if the y-axis is the usage of each word.\n",
    "\n",
    "2. Interacting with the chatbot was alright. I think my experience, as compared to maybe Prof. Schwartz's jokish sample conversation with the chatbot on the Markovian problem, is relatively smooth because I worded my question very clearly i.e. I made my prompt lengthy enough to where the chatbot won't miss any detail or basically not have to guess anything, while not too long as to repeat statements or confuse the wording. The result is either a satisfactory response or an unsatisfactory one that is easily fixable by asking the bot to change 1 or 2 things. However, if a frustrating moment existed it would be that the chatbot (copilot at the time) still managed to deviate, or interpret my prompt wrongly on 1 instance when I asked to summarize the conversation with the code but the chatbot summarized without and only in markdown.\n",
    "\n",
    "3. Unfortunately I'm unable to provide a well-experienced assessment of chatbots as I joined the course late and haven't worked on homework 1 yet. However, I can confident say that the Chatbot was instrumental in me understanding any foreign code at all based on doing this homework. This is despite me having practically no experience in using chatbots other than word of mouth before this course. It seems to me that chatbots are good at the easy things and their interpretation, or teaching of it. My assumption is that given the nature of our conversation, the chatbots are not given much room to make mistakes precisely because our problems and code are relatively beginner and not much to work with, accompanied with possibly my accurate wording. Within this limit, the chatbots were able to thrive in breaking down the code step by step, and even provide background info in layman terms in respect to both problems, likely influenced by the popularity of the two subjects. My conclusion, albeit without testing using more complex code, is that as long as the prompter creates an environment where the chatbot can only provide accurate sensory-based information in response instead of guessing, and the code itself has relation to a general famous topic that people have worked on, the chatbots are most likely not going to fail in being a good teacher."
   ]
  },
  {
   "cell_type": "markdown",
   "id": "765ad257",
   "metadata": {},
   "source": [
    "# Q7\n",
    "\n",
    "I addressed my change in perception of AI-driven assistance tools in a STA setting in part last question, but STA130 is my first formal use of any such tool. Before, I used it with friends for fun very infrequently, and the only times where I even tried dabbling into how they work is when on a discord session with one of my friends when they were using some chatgpt variant to help write marketing paragraphs. So, when the application of these tools hit home e.g. this course, it hits hard.\n",
    "\n",
    "Last tutorial did demonstrate one potential of chatbots, which is to combine its generative power with graph-plotting tools like Plotly to create machine learning visualizers. Hypothetically, if I am able to raise a question on a topic of which data can be gathered online, the data can be grouped into categories using e.g. a histogram, and can be identified as projectable trends, chatbots might (or can, just without my knowledge) assist actuaries or similar jobs in running simulations of any market and visualizing the results within say a 5-year span through communication with other apps. The chatbot then explains the data in layman terms, and after educated probes by the actuary creates a presentation of what the data implies and how should corporations act based on the projections and contingencies if it doesn't work out. The chatbot can now basically replace the bulk of an actuary's job without taking away the job because it relies on a human to check for inaccuracies, for the presentations and the confidence vote.\n",
    "\n",
    "When I asked chatgpt to evaluate the paragraph above, it affirmed that what I said was realistic in terms of cooperation with data processing libraries like pandas and numpy, and agreed that chatbots provide practical insight for actuaries in terms of probabilistic models and large datasets, which although doesn't require chatbots but might be more time-efficient. The chatbot also reinforced my point that chatbots can't just replace stat jobs  by saying they lack domain-specific judgment, intuition, and the ability to make complex ethical decisions. I partially disagree with this statment as the chatbot is intuitive but often wrongly, and in fairness all intuition can be wrong as they are based on past info, but the last point in particular is in my opinion irreplaceable because humans will simply believe they are the moral compass over bots, and won't leave those decisions in the hands of non-humans in fear of machines taking over the world or whatever poor, machine-favoring outcome the decisions lead to. Top voices like Elon Musk support that notion at least.\n"
   ]
  },
  {
   "cell_type": "markdown",
   "id": "8df53d63",
   "metadata": {},
   "source": [
    "# Q9\n",
    "\n",
    "Mostly, as I needed to catch up after missing week 1."
   ]
  }
 ],
 "metadata": {
  "kernelspec": {
   "display_name": "Python 3 (ipykernel)",
   "language": "python",
   "name": "python3"
  },
  "language_info": {
   "codemirror_mode": {
    "name": "ipython",
    "version": 3
   },
   "file_extension": ".py",
   "mimetype": "text/x-python",
   "name": "python",
   "nbconvert_exporter": "python",
   "pygments_lexer": "ipython3",
   "version": "3.11.6"
  }
 },
 "nbformat": 4,
 "nbformat_minor": 5
}
