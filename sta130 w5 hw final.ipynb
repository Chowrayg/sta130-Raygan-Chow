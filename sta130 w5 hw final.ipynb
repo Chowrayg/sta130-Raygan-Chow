{
 "cells": [
  {
   "cell_type": "markdown",
   "id": "c0e2d9da",
   "metadata": {},
   "source": [
    "github chatgpt repo: https://github.com/Chowrayg/sta130-Raygan-Chow/blob/main/hw5%20chatlog"
   ]
  },
  {
   "cell_type": "markdown",
   "id": "f9019f67",
   "metadata": {},
   "source": [
    "### Q2"
   ]
  },
  {
   "cell_type": "markdown",
   "id": "e2984578",
   "metadata": {},
   "source": [
    "In order to explain what the required sentence means, the symbols must be explained first.\n",
    "\n",
    "Using simpler words, xᵢis the individual data we gather e.g.the test score or height of each person we measured, x̄ is the average of that data, but only for that sample e.g. if we measured the heights of 100 people, x̄ would be the average height in the sample of 100 people; μ is the true average for the entire population e.g. the average height of every single person in the whole population (like all adults in the city), and μ₀ is what we assume the population average to be (our starting point).\n",
    "\n",
    "When we conduct a statistical test, we use data from the sample (the xᵢ'sand the sample average x̄) to make an estimate or judgment about the population mean (μ). However, the result of the test isn’t about the sample itself, but rather about the whole population.\n",
    "\n",
    "We want to determine if the hypothesized value μ₀ (what we assumed the average to be) is accurate for the entire population. The goal is to use the sample to make an inference about the true population mean μ, and not just describe the sample we collected."
   ]
  },
  {
   "cell_type": "markdown",
   "id": "3487b000",
   "metadata": {},
   "source": [
    "### Q4"
   ]
  },
  {
   "cell_type": "markdown",
   "id": "5edae8ff",
   "metadata": {},
   "source": [
    "To understand why a smaller p-value makes the null hypothesis look more ridiculous, I must know the implication of small and large p-values. This is based on how p-value is calculated using \"as or more extreme\". \n",
    "\n",
    "The key is when the sampling distribution of the test statistic under the null hypothesis is so extreme that no observed test statistic can be as extreme, it means that the hypothesis number is ridiculous e.g. if a coin is flipped and I hypothesize the sampling distribution to be 0.9 for heads, and the observed test statistic ranges from 0.4-0.6 for each sample, my hypothesis of 0.9 is clearly an outlier i.e. \"extreme\" compared to the actual data. Without even knowing what p-value means, I know that this result should show that my hypothesis is ridiculous. In terms of p-value, when the p-value is small, almost no observed statistic is as or more extreme than my hypothesis, so my hypothesis is ridiculous. Conversely, when the p-value is big, the observed statistic is as or more extreme than my hypothesis, which means that my hypothesis is really not that extreme because if so then most observed data is extreme i.e. evidence matches my hypothesis, so my hypothesis is not proven wrong."
   ]
  },
  {
   "cell_type": "markdown",
   "id": "6d032a13",
   "metadata": {},
   "source": [
    "### Q8"
   ]
  },
  {
   "cell_type": "markdown",
   "id": "77178f61",
   "metadata": {},
   "source": [
    "Problem Introduction\n",
    "The purpose of this experiment is to determine whether students can identify the order in which milk is poured into tea. This experiment mirrors the classic experiment conducted by Fisher and Bristol, designed to test if a person could distinguish between tea prepared by pouring milk first versus tea prepared by pouring tea first.\n",
    "\n",
    "In the original Fisher and Bristol experiment, Dr. Muriel Bristol claimed she could tell whether milk was added to tea or if tea was added to milk. Fisher designed an experiment to test her claim, ultimately using it to develop the statistical method known as Fisher's exact test. Similarly, in our experiment, we are testing whether students can identify the order in which milk is poured into tea, leveraging a hypothesis test.\n",
    "\n",
    "From this problem breakdown, I construct the null hypothesis and alternative hypothesis as follows:\n",
    "Null Hypothesis (H0): The students are guessing randomly and have a 50% chance of identifying the correct pouring order.\n",
    "\n",
    "Alternative Hypothesis (HA): The students are not guessing randomly and have a better-than-chance ability to identify the correct pouring order.\n",
    "\n",
    "Analysis\n",
    "Methodology\n",
    "We conducted the experiment with 80 students, where 49 students correctly identified the pouring order. The statistical analysis involves calculating the sample proportion, standard error, Z-score, and p-value to determine if the results are statistically significant.\n",
    "\n",
    "\n",
    "The following is the code."
   ]
  },
  {
   "cell_type": "code",
   "execution_count": null,
   "id": "c4628d49",
   "metadata": {},
   "outputs": [],
   "source": [
    "import numpy as np\n",
    "import scipy.stats as stats\n",
    "\n",
    "# Setting the seed for reproducibility\n",
    "np.random.seed(42)\n",
    "\n",
    "# Number of students who correctly identified the pouring order (successes in the sample)\n",
    "correct_identifications = 49\n",
    "\n",
    "# Total number of students in the sample (sample size)\n",
    "total_students = 80\n",
    "\n",
    "# Population parameter under the null hypothesis (probability of success if guessing)\n",
    "p_null = 0.5  # Assuming random guessing\n",
    "\n",
    "# Sample proportion (estimated probability of success based on the sample)\n",
    "p_hat = correct_identifications / total_students\n",
    "\n",
    "# Standard error of the sample proportion\n",
    "# Measures the variability of the sample proportion around the population proportion under the null hypothesis\n",
    "se = np.sqrt(p_null * (1 - p_null) / total_students)\n",
    "\n",
    "# Z-score: measures how many standard errors the sample proportion is away from the population proportion under the null hypothesis\n",
    "z_score = (p_hat - p_null) / se\n",
    "\n",
    "# P-value: probability of obtaining a result at least as extreme as the observed one, assuming the null hypothesis is true\n",
    "p_value = 2 * (1 - stats.norm.cdf(np.abs(z_score)))\n",
    "\n",
    "# Printing results\n",
    "print(f\"Sample Proportion (p̂): {p_hat:.4f}\")\n",
    "print(f\"Standard Error (SE): {se:.4f}\")\n",
    "print(f\"Z-Score: {z_score:.4f}\")\n",
    "print(f\"P-Value: {p_value:.4f}\")\n",
    "\n",
    "# Interpretation of p-value\n",
    "# Significance level: threshold used to decide whether to reject the null hypothesis\n",
    "alpha = 0.05\n",
    "if p_value < alpha:\n",
    "    print(\"Reject the null hypothesis: There's evidence that students can identify the pouring order.\")\n",
    "else:\n",
    "    print(\"Fail to reject the null hypothesis: There's no evidence that students can identify the pouring order.\")\n"
   ]
  },
  {
   "cell_type": "markdown",
   "id": "3f0c163f",
   "metadata": {},
   "source": [
    "Findings and Discussion\n",
    "The sample proportion of correct identifications is 0.6125 (61.25%). The calculated Z-score is approximately 2.7, and the p-value is 0.0069. Since the p-value is less than the significance level of 0.05, we reject the null hypothesis. This result suggests that there is sufficient evidence to conclude that students can identify the correct pouring order better than random guessing.\n",
    "\n",
    "Conclusion regarding the Null Hypothesis\n",
    "Based on the statistical analysis, we reject the null hypothesis. There is statistically significant evidence to suggest that students can identify the order in which milk is poured into tea."
   ]
  }
 ],
 "metadata": {
  "kernelspec": {
   "display_name": "Python 3 (ipykernel)",
   "language": "python",
   "name": "python3"
  },
  "language_info": {
   "codemirror_mode": {
    "name": "ipython",
    "version": 3
   },
   "file_extension": ".py",
   "mimetype": "text/x-python",
   "name": "python",
   "nbconvert_exporter": "python",
   "pygments_lexer": "ipython3",
   "version": "3.11.6"
  }
 },
 "nbformat": 4,
 "nbformat_minor": 5
}
